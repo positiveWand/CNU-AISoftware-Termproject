{
 "cells": [
  {
   "cell_type": "code",
   "execution_count": 1,
   "metadata": {},
   "outputs": [
    {
     "name": "stderr",
     "output_type": "stream",
     "text": [
      "c:\\Users\\singbhang\\AppData\\Local\\Programs\\Python\\Python311\\Lib\\site-packages\\tqdm\\auto.py:21: TqdmWarning: IProgress not found. Please update jupyter and ipywidgets. See https://ipywidgets.readthedocs.io/en/stable/user_install.html\n",
      "  from .autonotebook import tqdm as notebook_tqdm\n",
      "c:\\Users\\singbhang\\AppData\\Local\\Programs\\Python\\Python311\\Lib\\site-packages\\torchaudio\\backend\\utils.py:74: UserWarning: No audio backend is available.\n",
      "  warnings.warn(\"No audio backend is available.\")\n"
     ]
    }
   ],
   "source": [
    "from img_shape_data import ImgShapeDataset, ImgShapeDataModule\n",
    "import pathlib\n",
    "import pandas as pd\n",
    "import matplotlib.pyplot as plt"
   ]
  },
  {
   "cell_type": "code",
   "execution_count": 2,
   "metadata": {},
   "outputs": [],
   "source": [
    "data_dir = pathlib.Path('.').absolute() / 'data'\n",
    "train_aug_dir = data_dir / 'train_augmented'\n",
    "train_aug_img_dir = train_aug_dir / 'images'\n",
    "test_dir = data_dir / 'valid'\n",
    "test_img_dir = test_dir / 'images'\n",
    "\n",
    "train_scene_all = pd.read_excel(train_aug_dir / 'scene.all.xlsx')\n",
    "\n",
    "ds = ImgShapeDataset(train_scene_all['id'], train_scene_all['scene'], train_aug_img_dir)"
   ]
  },
  {
   "cell_type": "code",
   "execution_count": 3,
   "metadata": {},
   "outputs": [
    {
     "name": "stdout",
     "output_type": "stream",
     "text": [
      "21000\n",
      "(tensor([[[-3.1129, -3.1129, -3.1129,  ..., -3.1129, -3.1129, -3.1129],\n",
      "         [-3.1129, -3.1129, -3.1129,  ..., -3.1129, -3.1129, -3.1129],\n",
      "         [-3.1129, -3.1129, -3.1129,  ..., -3.1129, -3.1129, -3.1129],\n",
      "         ...,\n",
      "         [-3.1129, -3.1129, -3.1129,  ..., -3.1129, -3.1129, -3.1129],\n",
      "         [-3.1129, -3.1129, -3.1129,  ..., -3.1129, -3.1129, -3.1129],\n",
      "         [-3.1129, -3.1129, -3.1129,  ..., -3.1129, -3.1129, -3.1129]],\n",
      "\n",
      "        [[-3.1125, -3.1125, -3.1125,  ..., -3.1125, -3.1125, -3.1125],\n",
      "         [-3.1125, -3.1125, -3.1125,  ..., -3.1125, -3.1125, -3.1125],\n",
      "         [-3.1125, -3.1125, -3.1125,  ..., -3.1125, -3.1125, -3.1125],\n",
      "         ...,\n",
      "         [-3.1125, -3.1125, -3.1125,  ..., -3.1125, -3.1125, -3.1125],\n",
      "         [-3.1125, -3.1125, -3.1125,  ..., -3.1125, -3.1125, -3.1125],\n",
      "         [-3.1125, -3.1125, -3.1125,  ..., -3.1125, -3.1125, -3.1125]],\n",
      "\n",
      "        [[-3.1112, -3.1112, -3.1112,  ..., -3.1112, -3.1112, -3.1112],\n",
      "         [-3.1112, -3.1112, -3.1112,  ..., -3.1112, -3.1112, -3.1112],\n",
      "         [-3.1112, -3.1112, -3.1112,  ..., -3.1112, -3.1112, -3.1112],\n",
      "         ...,\n",
      "         [-3.1112, -3.1112, -3.1112,  ..., -3.1112, -3.1112, -3.1112],\n",
      "         [-3.1112, -3.1112, -3.1112,  ..., -3.1112, -3.1112, -3.1112],\n",
      "         [-3.1112, -3.1112, -3.1112,  ..., -3.1112, -3.1112, -3.1112]]]), tensor([0., 1., 1., 0., 0.]))\n"
     ]
    }
   ],
   "source": [
    "print(len(ds))\n",
    "print(ds[0])"
   ]
  },
  {
   "cell_type": "code",
   "execution_count": 5,
   "metadata": {},
   "outputs": [],
   "source": [
    "dm = ImgShapeDataModule(30, train_aug_dir, test_dir) \n",
    "dm.setup()\n",
    "a = next(iter(dm.train_dataloader()))"
   ]
  },
  {
   "cell_type": "code",
   "execution_count": 8,
   "metadata": {},
   "outputs": [
    {
     "data": {
      "text/plain": [
       "torch.Size([30, 3, 256, 256])"
      ]
     },
     "execution_count": 8,
     "metadata": {},
     "output_type": "execute_result"
    }
   ],
   "source": [
    "a[0].shape"
   ]
  },
  {
   "cell_type": "code",
   "execution_count": 10,
   "metadata": {},
   "outputs": [
    {
     "data": {
      "text/plain": [
       "torch.Size([30, 5])"
      ]
     },
     "execution_count": 10,
     "metadata": {},
     "output_type": "execute_result"
    }
   ],
   "source": [
    "a[1].shape"
   ]
  },
  {
   "cell_type": "code",
   "execution_count": null,
   "metadata": {},
   "outputs": [],
   "source": []
  }
 ],
 "metadata": {
  "kernelspec": {
   "display_name": "Python 3",
   "language": "python",
   "name": "python3"
  },
  "language_info": {
   "codemirror_mode": {
    "name": "ipython",
    "version": 3
   },
   "file_extension": ".py",
   "mimetype": "text/x-python",
   "name": "python",
   "nbconvert_exporter": "python",
   "pygments_lexer": "ipython3",
   "version": "3.11.5"
  }
 },
 "nbformat": 4,
 "nbformat_minor": 2
}
